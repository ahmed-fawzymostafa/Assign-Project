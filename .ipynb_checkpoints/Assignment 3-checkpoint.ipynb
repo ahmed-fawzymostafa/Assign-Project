{
 "cells": [
  {
   "cell_type": "markdown",
   "metadata": {},
   "source": [
    "# Assignment 3"
   ]
  },
  {
   "cell_type": "markdown",
   "metadata": {},
   "source": [
    "### Write a function to count the number 4 in a given list."
   ]
  },
  {
   "cell_type": "code",
   "execution_count": 13,
   "metadata": {},
   "outputs": [
    {
     "name": "stdout",
     "output_type": "stream",
     "text": [
      "3\n"
     ]
    }
   ],
   "source": [
    "def count4(li):\n",
    "\n",
    "    c = 0\n",
    "    for i in li:\n",
    "        if(i == 4):\n",
    "            c += 1\n",
    "    return c\n",
    "\n",
    "li = [4,4,2,4]\n",
    "print(count4(li))"
   ]
  },
  {
   "cell_type": "markdown",
   "metadata": {},
   "source": [
    "### write a  function to check whether a number is divisible by another number."
   ]
  },
  {
   "cell_type": "code",
   "execution_count": 5,
   "metadata": {},
   "outputs": [
    {
     "name": "stdout",
     "output_type": "stream",
     "text": [
      "False\n",
      "True\n"
     ]
    }
   ],
   "source": [
    "def NdivN(n1 , n2):\n",
    "    if(n1%n2 == 0 ):\n",
    "        return True\n",
    "    else:\n",
    "        return False\n",
    "\n",
    "#test\n",
    "print(NdivN(4,3))    \n",
    "print(NdivN(4,2))    \n"
   ]
  },
  {
   "cell_type": "markdown",
   "metadata": {},
   "source": [
    "### write a function to find the maximum and minimum numbers from a sequence of numbers."
   ]
  },
  {
   "cell_type": "code",
   "execution_count": 18,
   "metadata": {},
   "outputs": [
    {
     "name": "stdout",
     "output_type": "stream",
     "text": [
      "(100, -1)\n",
      "Please use non-empty list\n",
      "None\n"
     ]
    }
   ],
   "source": [
    "def findMaxMin(li):\n",
    "    if(len(li)==0):\n",
    "        print(\"Please use non-empty list\")\n",
    "    else:    \n",
    "        max = li[0]\n",
    "        min = li[0]\n",
    "        for i in li:\n",
    "            if(i > max):\n",
    "                max = i\n",
    "            elif(i < min):\n",
    "                min = i\n",
    "        return max , min\n",
    "\n",
    "#test\n",
    "print(findMaxMin([100,5,88,0,-1]))\n",
    "print(findMaxMin([]))"
   ]
  },
  {
   "cell_type": "markdown",
   "metadata": {},
   "source": [
    "### Write a Python function that takes two lists and returns True if they have at least one common member."
   ]
  },
  {
   "cell_type": "code",
   "execution_count": 8,
   "metadata": {},
   "outputs": [
    {
     "name": "stdout",
     "output_type": "stream",
     "text": [
      "True\n",
      "False\n"
     ]
    }
   ],
   "source": [
    "def compare(l1 , l2):\n",
    "    for i in l1 :\n",
    "        if(i in l2): \n",
    "            return True #Return true if there is a common element\n",
    "    #return false if there is no match happen in the previous loop \n",
    "    return False    \n",
    "\n",
    "#test values\n",
    "l1 = [1,2,3,5]\n",
    "l2 = [5,7,8]\n",
    "l3 = [88,91]\n",
    "print(compare(l1 , l2))\n",
    "print(compare(l1 , l3))\n"
   ]
  },
  {
   "cell_type": "markdown",
   "metadata": {},
   "source": [
    "### Write a Python function to calculate the factorial of a number (a non-negative integer). The function accepts the number from the user"
   ]
  },
  {
   "cell_type": "code",
   "execution_count": 20,
   "metadata": {},
   "outputs": [
    {
     "name": "stdout",
     "output_type": "stream",
     "text": [
      "120\n"
     ]
    }
   ],
   "source": [
    "#Using reccursion\n",
    "def fact(n):\n",
    "    if(n == 0): #The bas ecase or anchor case\n",
    "        return 1\n",
    "    else:\n",
    "        return n*fact(n-1)\n",
    "    \n",
    "#test    \n",
    "print(fact(5))    "
   ]
  },
  {
   "cell_type": "markdown",
   "metadata": {},
   "source": [
    "### Write a Python function to check whether a number is in a given range.\n",
    "\n",
    "### The range is from 3 to 11\n"
   ]
  },
  {
   "cell_type": "code",
   "execution_count": 28,
   "metadata": {},
   "outputs": [
    {
     "name": "stdout",
     "output_type": "stream",
     "text": [
      "True\n",
      "False\n",
      "True\n"
     ]
    }
   ],
   "source": [
    "def check_n_range(n):\n",
    "    if( n in range(3,12) ):\n",
    "        return True\n",
    "    else:\n",
    "        return False\n",
    "\n",
    "#Using the range a as input\n",
    "def check_n_range2(n , lower ,upper ):\n",
    "    if(n in range(lower,upper+1)):\n",
    "        return True\n",
    "    else:\n",
    "        return False\n",
    "\n",
    "#test for first function\n",
    "print(check_n_range(4))\n",
    "    \n",
    "#test cases for second function\n",
    "print(check_n_range2(4,5,10))\n",
    "print(check_n_range2(4,0,10))"
   ]
  },
  {
   "cell_type": "markdown",
   "metadata": {},
   "source": [
    "### Write a  program to create the multiplication table (from 1 to 10) of a number."
   ]
  },
  {
   "cell_type": "code",
   "execution_count": 30,
   "metadata": {},
   "outputs": [
    {
     "name": "stdout",
     "output_type": "stream",
     "text": [
      "0  x  9  =  0\n",
      "1  x  9  =  9\n",
      "2  x  9  =  18\n",
      "3  x  9  =  27\n",
      "4  x  9  =  36\n",
      "5  x  9  =  45\n",
      "6  x  9  =  54\n",
      "7  x  9  =  63\n",
      "8  x  9  =  72\n",
      "9  x  9  =  81\n",
      "10  x  9  =  90\n"
     ]
    }
   ],
   "source": [
    "def multTable(n):\n",
    "    for i in range(11):\n",
    "        print(i , \" x \", n , \" = \" , (i*n))\n",
    "\n",
    "#test case        \n",
    "multTable(9)        "
   ]
  },
  {
   "cell_type": "markdown",
   "metadata": {},
   "source": [
    "#### LESSER OF TWO EVENS: Write a function that returns the lesser of two given numbers *if* both numbers are even, but returns the greater if one or both numbers are odd\n",
    "    lesser_of_two_evens(2,4) --> 2\n",
    "    lesser_of_two_evens(2,5) --> 5"
   ]
  },
  {
   "cell_type": "code",
   "execution_count": 34,
   "metadata": {},
   "outputs": [
    {
     "name": "stdout",
     "output_type": "stream",
     "text": [
      "2\n"
     ]
    },
    {
     "data": {
      "text/plain": [
       "5"
      ]
     },
     "execution_count": 34,
     "metadata": {},
     "output_type": "execute_result"
    }
   ],
   "source": [
    "def lesser_of_two_evens(n1,n2):\n",
    "    if( n1%2 == 0 and n2%2 == 0 ):\n",
    "        return min(n1,n2)\n",
    "    else:\n",
    "        return max(n1,n2)\n",
    "\n",
    "#test cases\n",
    "print(lesser_of_two_evens(2,4))\n",
    "lesser_of_two_evens(2,5)"
   ]
  },
  {
   "cell_type": "markdown",
   "metadata": {},
   "source": [
    "#### ANIMAL CRACKERS: Write a function takes a two-word string and returns True if both words begin with same letter\n",
    "    animal_crackers('Levelheaded Llama') --> True\n",
    "    animal_crackers('Crazy Kangaroo') --> False"
   ]
  },
  {
   "cell_type": "code",
   "execution_count": 40,
   "metadata": {},
   "outputs": [
    {
     "name": "stdout",
     "output_type": "stream",
     "text": [
      "True\n",
      "False\n"
     ]
    }
   ],
   "source": [
    "def animal_crackers(s):\n",
    "    sl = s.split(\" \")\n",
    "    if( sl[0][0] == sl[1][0] ):\n",
    "        return True\n",
    "    else:\n",
    "        return False\n",
    "\n",
    "#test cases\n",
    "print(animal_crackers('Levelheaded Llama'))\n",
    "print(animal_crackers('Crazy Kangaroo'))\n"
   ]
  },
  {
   "cell_type": "markdown",
   "metadata": {},
   "source": [
    "#### MAKES TWENTY: Given two integers, return True if the sum of the integers is 20 *or* if one of the integers is 20. If not, return False\n",
    "\n",
    "    makes_twenty(20,10) --> True\n",
    "    makes_twenty(12,8) --> True\n",
    "    makes_twenty(2,3) --> False"
   ]
  },
  {
   "cell_type": "code",
   "execution_count": 41,
   "metadata": {},
   "outputs": [
    {
     "name": "stdout",
     "output_type": "stream",
     "text": [
      "True\n",
      "True\n",
      "False\n"
     ]
    }
   ],
   "source": [
    "def makes_twenty(n1,n2):\n",
    "    if( n1 == 20 or n2 == 20 or (n1+n2) == 20 ):\n",
    "        return True\n",
    "    else:\n",
    "        return False\n",
    "\n",
    "#test cases\n",
    "print(makes_twenty(20,10))\n",
    "print(makes_twenty(12,8))\n",
    "print(makes_twenty(2,3))"
   ]
  },
  {
   "cell_type": "markdown",
   "metadata": {},
   "source": [
    "#### ALMOST THERE: Given an integer n, return True if n is within 10 of either 100 or 200\n",
    "\n",
    "    almost_there(90) --> True\n",
    "    almost_there(104) --> True\n",
    "    almost_there(150) --> False\n",
    "    almost_there(209) --> True\n",
    "    \n",
    "NOTE: `abs(num)` returns the absolute value of a number"
   ]
  },
  {
   "cell_type": "code",
   "execution_count": 43,
   "metadata": {},
   "outputs": [
    {
     "name": "stdout",
     "output_type": "stream",
     "text": [
      "True\n",
      "True\n",
      "False\n",
      "True\n"
     ]
    }
   ],
   "source": [
    "def almost_there(n):\n",
    "    if( abs(n-100) <=10 or abs(n-200) <=10 ):\n",
    "        return True\n",
    "    else:\n",
    "        return False\n",
    "\n",
    "#test cases\n",
    "print(almost_there(90))\n",
    "print(almost_there(104))\n",
    "print(almost_there(150))\n",
    "print(almost_there(209))\n"
   ]
  },
  {
   "cell_type": "markdown",
   "metadata": {},
   "source": [
    "#### BLACKJACK: Given three integers between 1 and 11, if their sum is less than or equal to 21, return their sum. If their sum exceeds 21 *and* there's an eleven, reduce the total sum by 10. Finally, if the sum  exceeds 21, return 'BUST'\n",
    "    blackjack(5,6,7) --> 18\n",
    "    blackjack(9,9,9) --> 'BUST'\n",
    "    blackjack(9,9,11) --> 19"
   ]
  },
  {
   "cell_type": "code",
   "execution_count": 45,
   "metadata": {},
   "outputs": [
    {
     "name": "stdout",
     "output_type": "stream",
     "text": [
      "18\n",
      "Bust\n",
      "19\n"
     ]
    }
   ],
   "source": [
    "def blackjack(n1,n2,n3):\n",
    "    sum = n1+n2+n3\n",
    "    if(sum <= 21):\n",
    "        return sum\n",
    "    elif(sum > 21 ):\n",
    "        if(n1==11 or n2==11 or n3==11):\n",
    "            return sum - 10\n",
    "        else:\n",
    "            return \"Bust\"\n",
    "\n",
    "#test cases\n",
    "print(blackjack(5,6,7))\n",
    "print(blackjack(9,9,9))\n",
    "print(blackjack(9,9,11))"
   ]
  }
 ],
 "metadata": {
  "kernelspec": {
   "display_name": "Python 3 (ipykernel)",
   "language": "python",
   "name": "python3"
  },
  "language_info": {
   "codemirror_mode": {
    "name": "ipython",
    "version": 3
   },
   "file_extension": ".py",
   "mimetype": "text/x-python",
   "name": "python",
   "nbconvert_exporter": "python",
   "pygments_lexer": "ipython3",
   "version": "3.9.7"
  }
 },
 "nbformat": 4,
 "nbformat_minor": 2
}
